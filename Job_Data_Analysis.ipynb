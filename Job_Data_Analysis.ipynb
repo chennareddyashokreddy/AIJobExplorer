{
  "metadata": {
    "kernelspec": {
      "name": "python",
      "display_name": "Python (Pyodide)",
      "language": "python"
    },
    "language_info": {
      "codemirror_mode": {
        "name": "python",
        "version": 3
      },
      "file_extension": ".py",
      "mimetype": "text/x-python",
      "name": "python",
      "nbconvert_exporter": "python",
      "pygments_lexer": "ipython3",
      "version": "3.8"
    }
  },
  "nbformat_minor": 4,
  "nbformat": 4,
  "cells": [
    {
      "cell_type": "markdown",
      "source": "AI and ML Jobs Analysis",
      "metadata": {}
    },
    {
      "cell_type": "code",
      "source": "import pandas as pd \nimport matplotlib.pyplot as plt\n\n",
      "metadata": {
        "trusted": true
      },
      "outputs": [],
      "execution_count": 3
    },
    {
      "cell_type": "markdown",
      "source": "Reading Dataset as CSV (Downloaded from kaggle for EDA)",
      "metadata": {}
    },
    {
      "cell_type": "code",
      "source": "df = pd.read_csv('final_job_list.csv')\ndf.head()",
      "metadata": {
        "trusted": true
      },
      "outputs": [
        {
          "execution_count": 5,
          "output_type": "execute_result",
          "data": {
            "text/plain": "                                               Title  \\\n0               Staff Applied Scientist, Marketplace   \n1  Prompt Engineer for Generative AI (chatbot and...   \n2                     Data Systems Analyst/Architect   \n3                     AIOps Principle Data Scientist   \n4                                 Sr. Data Scientist   \n\n                                   Company Location Type of Positions  \\\n0                             ThredUp Inc.       CA         Full-time   \n1                  Vicarious Talent Agency       WA         Full-time   \n2  General Dynamics Information Technology   Remote         Full-time   \n3                               CVS Health       CT         Full-time   \n4                              Altak Group   Remote         Full-time   \n\n                                     Job Description    Salary  \\\n0  \\nAbout thredUP thredUP is transforming resale...  190000.0   \n1  We are Vicarious, a talent agency that represe...   70000.0   \n2  Clearance Level None Category Data Science Loc...  104000.0   \n3  \\nBring your heart to CVS Health. Every one of...  140000.0   \n4  Job Summary:\\nWe are seeking an experienced Da...  136000.0   \n\n                                   Identified_Skills  \n0       ['python', 'machine learning', 'aws', 'sql']  \n1  ['python', 'machine learning', 'deep learning'...  \n2  ['machine learning', 'aws', 'azure', 'nosql', ...  \n3       ['python', 'machine learning', 'aws', 'gcp']  \n4  ['python', 'machine learning', 'tableau', 'aws...  ",
            "text/html": "<div>\n<style scoped>\n    .dataframe tbody tr th:only-of-type {\n        vertical-align: middle;\n    }\n\n    .dataframe tbody tr th {\n        vertical-align: top;\n    }\n\n    .dataframe thead th {\n        text-align: right;\n    }\n</style>\n<table border=\"1\" class=\"dataframe\">\n  <thead>\n    <tr style=\"text-align: right;\">\n      <th></th>\n      <th>Title</th>\n      <th>Company</th>\n      <th>Location</th>\n      <th>Type of Positions</th>\n      <th>Job Description</th>\n      <th>Salary</th>\n      <th>Identified_Skills</th>\n    </tr>\n  </thead>\n  <tbody>\n    <tr>\n      <th>0</th>\n      <td>Staff Applied Scientist, Marketplace</td>\n      <td>ThredUp Inc.</td>\n      <td>CA</td>\n      <td>Full-time</td>\n      <td>\\nAbout thredUP thredUP is transforming resale...</td>\n      <td>190000.0</td>\n      <td>['python', 'machine learning', 'aws', 'sql']</td>\n    </tr>\n    <tr>\n      <th>1</th>\n      <td>Prompt Engineer for Generative AI (chatbot and...</td>\n      <td>Vicarious Talent Agency</td>\n      <td>WA</td>\n      <td>Full-time</td>\n      <td>We are Vicarious, a talent agency that represe...</td>\n      <td>70000.0</td>\n      <td>['python', 'machine learning', 'deep learning'...</td>\n    </tr>\n    <tr>\n      <th>2</th>\n      <td>Data Systems Analyst/Architect</td>\n      <td>General Dynamics Information Technology</td>\n      <td>Remote</td>\n      <td>Full-time</td>\n      <td>Clearance Level None Category Data Science Loc...</td>\n      <td>104000.0</td>\n      <td>['machine learning', 'aws', 'azure', 'nosql', ...</td>\n    </tr>\n    <tr>\n      <th>3</th>\n      <td>AIOps Principle Data Scientist</td>\n      <td>CVS Health</td>\n      <td>CT</td>\n      <td>Full-time</td>\n      <td>\\nBring your heart to CVS Health. Every one of...</td>\n      <td>140000.0</td>\n      <td>['python', 'machine learning', 'aws', 'gcp']</td>\n    </tr>\n    <tr>\n      <th>4</th>\n      <td>Sr. Data Scientist</td>\n      <td>Altak Group</td>\n      <td>Remote</td>\n      <td>Full-time</td>\n      <td>Job Summary:\\nWe are seeking an experienced Da...</td>\n      <td>136000.0</td>\n      <td>['python', 'machine learning', 'tableau', 'aws...</td>\n    </tr>\n  </tbody>\n</table>\n</div>"
          },
          "metadata": {}
        }
      ],
      "execution_count": 5
    },
    {
      "cell_type": "code",
      "source": "titles = pd.DataFrame(pd.DataFrame(df.groupby('Title'))[0])\ntitles.head()",
      "metadata": {
        "trusted": true
      },
      "outputs": [
        {
          "execution_count": 11,
          "output_type": "execute_result",
          "data": {
            "text/plain": "                                                 0\n0  (No C2C) Sr Data Engineer with Machine Learning\n1                    AI & Data Solutions Architect\n2                                     AI Architect\n3                                 AI Data Engineer\n4                                      AI Engineer",
            "text/html": "<div>\n<style scoped>\n    .dataframe tbody tr th:only-of-type {\n        vertical-align: middle;\n    }\n\n    .dataframe tbody tr th {\n        vertical-align: top;\n    }\n\n    .dataframe thead th {\n        text-align: right;\n    }\n</style>\n<table border=\"1\" class=\"dataframe\">\n  <thead>\n    <tr style=\"text-align: right;\">\n      <th></th>\n      <th>0</th>\n    </tr>\n  </thead>\n  <tbody>\n    <tr>\n      <th>0</th>\n      <td>(No C2C) Sr Data Engineer with Machine Learning</td>\n    </tr>\n    <tr>\n      <th>1</th>\n      <td>AI &amp; Data Solutions Architect</td>\n    </tr>\n    <tr>\n      <th>2</th>\n      <td>AI Architect</td>\n    </tr>\n    <tr>\n      <th>3</th>\n      <td>AI Data Engineer</td>\n    </tr>\n    <tr>\n      <th>4</th>\n      <td>AI Engineer</td>\n    </tr>\n  </tbody>\n</table>\n</div>"
          },
          "metadata": {}
        }
      ],
      "execution_count": 11
    },
    {
      "cell_type": "markdown",
      "source": "Finding the different Locations where Artificial Intelligence and Machine Learning Jobs Available...",
      "metadata": {}
    },
    {
      "cell_type": "code",
      "source": "location = pd.DataFrame(pd.DataFrame(df.groupby('Location'))[0])\nlocation.head()",
      "metadata": {
        "trusted": true
      },
      "outputs": [
        {
          "execution_count": 12,
          "output_type": "execute_result",
          "data": {
            "text/plain": "    0\n0  AK\n1  AL\n2  AR\n3  AZ\n4  CA",
            "text/html": "<div>\n<style scoped>\n    .dataframe tbody tr th:only-of-type {\n        vertical-align: middle;\n    }\n\n    .dataframe tbody tr th {\n        vertical-align: top;\n    }\n\n    .dataframe thead th {\n        text-align: right;\n    }\n</style>\n<table border=\"1\" class=\"dataframe\">\n  <thead>\n    <tr style=\"text-align: right;\">\n      <th></th>\n      <th>0</th>\n    </tr>\n  </thead>\n  <tbody>\n    <tr>\n      <th>0</th>\n      <td>AK</td>\n    </tr>\n    <tr>\n      <th>1</th>\n      <td>AL</td>\n    </tr>\n    <tr>\n      <th>2</th>\n      <td>AR</td>\n    </tr>\n    <tr>\n      <th>3</th>\n      <td>AZ</td>\n    </tr>\n    <tr>\n      <th>4</th>\n      <td>CA</td>\n    </tr>\n  </tbody>\n</table>\n</div>"
          },
          "metadata": {}
        }
      ],
      "execution_count": 12
    },
    {
      "cell_type": "markdown",
      "source": "Finding the type of Job Position Available",
      "metadata": {}
    },
    {
      "cell_type": "code",
      "source": "pd.DataFrame(pd.DataFrame(df.groupby('Type of Positions'))[0])",
      "metadata": {
        "trusted": true
      },
      "outputs": [
        {
          "execution_count": 16,
          "output_type": "execute_result",
          "data": {
            "text/plain": "           0\n0  Full-time",
            "text/html": "<div>\n<style scoped>\n    .dataframe tbody tr th:only-of-type {\n        vertical-align: middle;\n    }\n\n    .dataframe tbody tr th {\n        vertical-align: top;\n    }\n\n    .dataframe thead th {\n        text-align: right;\n    }\n</style>\n<table border=\"1\" class=\"dataframe\">\n  <thead>\n    <tr style=\"text-align: right;\">\n      <th></th>\n      <th>0</th>\n    </tr>\n  </thead>\n  <tbody>\n    <tr>\n      <th>0</th>\n      <td>Full-time</td>\n    </tr>\n  </tbody>\n</table>\n</div>"
          },
          "metadata": {}
        }
      ],
      "execution_count": 16
    },
    {
      "cell_type": "markdown",
      "source": "Creating Function for Company Description ",
      "metadata": {}
    },
    {
      "cell_type": "code",
      "source": "def find_mission_and_rule(job_desc,company):\n    mission = df[(df['Job Description'].str.contains(job_desc)) & (df['Company'] == company) ]['Job Description']\n    return mission.values[0] if not mission.empty else None\n\nprint(find_mission_and_rule('Health','CVS Health'))",
      "metadata": {
        "trusted": true
      },
      "outputs": [
        {
          "name": "stdout",
          "text": "\nBring your heart to CVS Health. Every one of us at CVS Health shares a single, clear purpose: Bringing our heart to every moment of your health. This purpose guides our commitment to deliver enhanced human-centric health care for a rapidly changing world. Anchored in our brand — with heart at its center — our purpose sends a personal message that how we deliver our services is just as important as what we deliver.  Our Heart At Work Behaviors™ support this purpose. We want everyone who works at CVS Health to feel empowered by the role they play in transforming our culture and accelerating our ability to innovate and deliver solutions to make health care more personal, convenient and affordable.\n\n Position Summary We are seeking a highly skilled and experienced Principal Data Scientist to lead our AIOps initiatives. As the Principal Data Scientist, you will play a crucial role in developing and implementing advanced data science models and algorithms to optimize our operations and enhance overall stability, resiliency and performance.\n\n Responsibilities include:\n\n Strategy and Leadership: Execute a strategic vision for AIOps problem sets leveraging data science techniques. Provide leadership in aligning AIOps initiatives with organizational goals.\n Algorithm development: Design, develop and deploy advanced machine learning and statistical models to analyze and interpret complex datasets. Ensure the accuracy and efficiency of the algorithms for proactive incident detection, root cause analysis and performance optimization\n Collaboration: Work closely with cross-functional teams to integration AI/ML solutions into existing workflows. Collaborate with stakeholders to understand business requirements and translate them into actionable data science projects.\n Data Management: Oversee the collection, processing and analysis of large-scale datasets. Implement data quality assurance processes and ensure data integrity for accurate model training and predictions.\n Monitoring and feedback: Establish monitoring mechanisms to evaluate model performance and provide continuous feedback for model improvement.\n Stay current with industry trends, emerging technologies and best practices in AIOps and data science. Integrate new methodologies and technologies to enhance the effectiveness of our solutions.\n\n Required Qualifications\n\n Proven track record of leading successful data science initiatives\n 7+ years of expertise in machine learning, statistical modeling and data analysis\n 7+ years proficiency in programming languages such as Python or R.\n Strong communication skills with ability to convey complex technical concepts to non-technical stakeholders\n\n Preferred Qualifications\n\n Experience processing data from various sources and via big data platforms (such as GCP, AWS, etc.)\n Experience developing and deploying Generative AI solutions.\n Experience enhancing existing data pipelines by exploring unstructured data sources and engineering new features.\n Strong software engineering skills, including understanding of software design patterns and best practices\n\n Education\n Ph.D or equivalent experience in a relevant field such as computer science or data science.\n\n Pay Range\n The typical pay range for this role is:\n $140,000.00 - $280,000.00\n  This pay range represents the base hourly rate or base annual full-time salary for all positions in the job grade within which this position falls. The actual base salary offer will depend on a variety of factors including experience, education, geography and other relevant factors. This position is eligible for a CVS Health bonus, commission or short-term incentive program in addition to the base pay range listed above. This position also includes an award target in the company’s equity award program.  In addition to your compensation, enjoy the rewards of an organization that puts our heart into caring for our colleagues and our communities. The Company offers a full range of medical, dental, and vision benefits. Eligible employees may enroll in the Company’s 401(k) retirement savings plan, and an Employee Stock Purchase Plan is also available for eligible employees. The Company provides a fully-paid term life insurance plan to eligible employees, and short-term and long term disability benefits. CVS Health also offers numerous well-being programs, education assistance, free development courses, a CVS store discount, and discount programs with participating partners. As for time off, Company employees enjoy Paid Time Off (“PTO”) or vacation pay, as well as paid holidays throughout the calendar year. Number of paid holidays, sick time and other time off are provided consistent with relevant state law and Company policies.  For more detailed information on available benefits, please visit jobs.CVSHealth.com/benefits\n\n CVS Health requires certain colleagues to be fully vaccinated against COVID-19 (including any booster shots if required), where allowable under the law, unless they are approved for a reasonable accommodation based on disability, medical condition, religious belief, or other legally recognized reasons that prevents them from being vaccinated.\n\n You are required to have received at least one COVID-19 shot prior to your first day of employment and to provide proof of your vaccination status or apply for a reasonable accommodation within the first 10 days of your employment. Please note that in some states and roles, you may be required to provide proof of full vaccination or an approved reasonable accommodation before you can begin to actively work.\n\n CVS Health is committed to recruiting, hiring, developing, advancing, and retaining individuals with disabilities. As such, we strive to provide equal access to the benefits and privileges of employment, including the provision of a reasonable accommodation to perform essential job functions. CVS Health can provide a request for a reasonable accommodation, including a qualified interpreter, written information in other formats, translation or other services through ColleagueRelations@CVSHealth.com If you have a speech or hearing disability, please call 7-1-1 to utilize Telecommunications Relay Services (TRS). We will make every effort to respond to your request within 48 business hours and do everything we can to work towards a solution.\n\n",
          "output_type": "stream"
        }
      ],
      "execution_count": 19
    },
    {
      "cell_type": "code",
      "source": "",
      "metadata": {
        "trusted": true
      },
      "outputs": [],
      "execution_count": null
    }
  ]
}